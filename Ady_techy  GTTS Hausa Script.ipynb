{
 "cells": [
  {
   "cell_type": "markdown",
   "metadata": {},
   "source": [
    "###                             Ady_Techy \n",
    "#### yadda ake juya text ya koma audio da python"
   ]
  },
  {
   "cell_type": "code",
   "execution_count": null,
   "metadata": {},
   "outputs": [],
   "source": [
    "# Muyi importing libraries dinmu\n",
    "from gtts import gTTS\n",
    "from io import BytesIO\n",
    "import pygame\n",
    "# Mu rubuta text din da zamu yi converting \n",
    "rubutu = 'wannan misalin rubutu ne da zai koma magana' \n",
    "\n",
    "# mu hada function dinmu\n",
    "def magana(text=rubutu, language= 'en'):\n",
    "    mp3 = BytesIO()\n",
    "    tts = gTTS(text, lang=language)\n",
    "    tts.write_to_fp(mp3)\n",
    "    mp3.seek(0)\n",
    "    return mp3\n",
    "# Mu kunna pygame da mixer\n",
    "pygame.init()\n",
    "pygame.mixer.init()\n",
    "\n",
    "# mu hada inda zaa ajiye maganar\n",
    "sauti = magana(rubutu)\n",
    "# Mu hada directory ko folder da zamu saka file dinmu\n",
    "path = \"C:/Users/hp/Downloads/New folder/audio1.mp3\"\n",
    "# mu bude wannan file din\n",
    "with open(path, 'wb') as f:\n",
    "    f.write(sauti.read())\n",
    "# Muyi loading da kunna file din da muka maida audio\n",
    "pygame.mixer.music.load(path)\n",
    "pygame.mixer.music.play()"
   ]
  }
 ],
 "metadata": {
  "kernelspec": {
   "display_name": "Python 3",
   "language": "python",
   "name": "python3"
  },
  "language_info": {
   "codemirror_mode": {
    "name": "ipython",
    "version": 3
   },
   "file_extension": ".py",
   "mimetype": "text/x-python",
   "name": "python",
   "nbconvert_exporter": "python",
   "pygments_lexer": "ipython3",
   "version": "3.9.13"
  }
 },
 "nbformat": 4,
 "nbformat_minor": 2
}
